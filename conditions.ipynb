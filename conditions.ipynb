{
 "cells": [
  {
   "cell_type": "markdown",
   "metadata": {},
   "source": [
    "\n",
    "# WAP to check even or odd"
   ]
  },
  {
   "cell_type": "code",
   "execution_count": 1,
   "metadata": {},
   "outputs": [
    {
     "name": "stdout",
     "output_type": "stream",
     "text": [
      "Even\n"
     ]
    }
   ],
   "source": [
    "num = int(input(\"Enter a number: \"))\n",
    "if num %2 == 0:\n",
    "    print(\"Even\")\n",
    "else:\n",
    "    print(\"Odd\")\n",
    "\n",
    "    "
   ]
  },
  {
   "cell_type": "markdown",
   "metadata": {},
   "source": [
    "# WAP to check temperature and give output"
   ]
  },
  {
   "cell_type": "code",
   "execution_count": 10,
   "metadata": {},
   "outputs": [
    {
     "name": "stdout",
     "output_type": "stream",
     "text": [
      "its freezing\n"
     ]
    }
   ],
   "source": [
    "temp = int(input('Enter temperature'))\n",
    "\n",
    "if temp <= 10 and temp >= -10:\n",
    "    print('its freezing')\n",
    "elif temp <= 30 and temp > 10: \n",
    "    print('its normal')\n",
    "elif temp > 30 and temp <= 50:\n",
    "    print('its hot')\n",
    "else: \n",
    "    print('invalid temperature')"
   ]
  },
  {
   "cell_type": "markdown",
   "metadata": {
    "vscode": {
     "languageId": "bat"
    }
   },
   "source": [
    "# WAP to check if a number is divisible by 7 and 11"
   ]
  },
  {
   "cell_type": "code",
   "execution_count": 11,
   "metadata": {},
   "outputs": [
    {
     "name": "stdout",
     "output_type": "stream",
     "text": [
      "divsible\n"
     ]
    }
   ],
   "source": [
    "numb = int(input('enter a number'))\n",
    "if numb % 7 == 0 and numb % 11 == 0:\n",
    "    print ('divsible by both')\n",
    "else:\n",
    "    print('not divisible')"
   ]
  },
  {
   "cell_type": "markdown",
   "metadata": {},
   "source": [
    "# WAP to enter sides of a triangle and check equilateral, isosceles or scalene"
   ]
  },
  {
   "cell_type": "code",
   "execution_count": 15,
   "metadata": {},
   "outputs": [
    {
     "name": "stdout",
     "output_type": "stream",
     "text": [
      "scalene\n"
     ]
    }
   ],
   "source": [
    "a = int(input('enter side 1'))\n",
    "b = int(input('enter side 2'))\n",
    "c = int(input('enter side 3'))\n",
    "if a==b and b==c:\n",
    "    print('equilateral')\n",
    "elif a==b or b==c or c==a:\n",
    "    print('isosceles')\n",
    "elif a!=b and b!=c and c!=a:\n",
    "    print('scalene')\n"
   ]
  },
  {
   "cell_type": "markdown",
   "metadata": {},
   "source": [
    "# WAP to check if a number is perfect square"
   ]
  },
  {
   "cell_type": "code",
   "execution_count": 17,
   "metadata": {},
   "outputs": [
    {
     "name": "stdout",
     "output_type": "stream",
     "text": [
      "perfect square\n"
     ]
    }
   ],
   "source": [
    "num = int(input('enter a number'))\n",
    "sqrt = num ** 0.5\n",
    "if sqrt == int(sqrt):\n",
    "    print('perfect square')\n",
    "else:\n",
    "    print('not a perfect square')\n"
   ]
  },
  {
   "cell_type": "markdown",
   "metadata": {},
   "source": [
    "# WAP to check if a number is negative positive or zero"
   ]
  },
  {
   "cell_type": "code",
   "execution_count": 22,
   "metadata": {},
   "outputs": [
    {
     "name": "stdout",
     "output_type": "stream",
     "text": [
      "negative\n"
     ]
    }
   ],
   "source": [
    "numb = int(input('enter a number'))\n",
    "if numb > 0:\n",
    "    print ('positive')\n",
    "elif numb < 0:\n",
    "    print('negative')\n",
    "else: \n",
    "    print('zero')"
   ]
  },
  {
   "cell_type": "code",
   "execution_count": 33,
   "metadata": {},
   "outputs": [
    {
     "name": "stdout",
     "output_type": "stream",
     "text": [
      "Fail\n"
     ]
    }
   ],
   "source": [
    "marks = int(input('enter marks'))\n",
    "if marks>90 and marks<=100:\n",
    "    print ('A')\n",
    "elif marks>70 and marks<=90:\n",
    "    print('B')\n",
    "elif marks>40 and marks<=70:\n",
    "    print('C')\n",
    "elif marks>0 and marks<=40:\n",
    "    print('Fail')\n",
    "else:\n",
    "    print('invalid')\n",
    "\n",
    "\n"
   ]
  }
 ],
 "metadata": {
  "kernelspec": {
   "display_name": "base",
   "language": "python",
   "name": "python3"
  },
  "language_info": {
   "codemirror_mode": {
    "name": "ipython",
    "version": 3
   },
   "file_extension": ".py",
   "mimetype": "text/x-python",
   "name": "python",
   "nbconvert_exporter": "python",
   "pygments_lexer": "ipython3",
   "version": "3.13.5"
  }
 },
 "nbformat": 4,
 "nbformat_minor": 2
}
